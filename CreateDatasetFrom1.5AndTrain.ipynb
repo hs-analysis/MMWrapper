{
 "cells": [
  {
   "cell_type": "markdown",
   "id": "c31f177a-196c-4225-924f-815af80b45fa",
   "metadata": {},
   "source": [
    "# The dataset conversion is just for instance segmentation and object detection. Classification and segmentation can be used as given by 1.5"
   ]
  },
  {
   "cell_type": "code",
   "execution_count": null,
   "id": "121a06f9-eb3d-4bf3-9e57-06f204f784f7",
   "metadata": {},
   "outputs": [],
   "source": [
    "import json\n",
    "import cv2\n",
    "import numpy as np\n",
    "import os\n",
    "import shutil"
   ]
  },
  {
   "cell_type": "code",
   "execution_count": null,
   "id": "93d0558b-e1a4-423b-b0a1-f1a1303a364d",
   "metadata": {},
   "outputs": [],
   "source": [
    "output_dir = \"finaltestdataset\"\n",
    "segmentation_dataset_train_path = r\"C:\\Users\\philmarq\\source\\repos\\Daten\\neuestes\\dataset\\dataset/train\"\n",
    "segmentation_dataset_valid_path = r\"C:\\Users\\philmarq\\source\\repos\\Daten\\neuestes\\dataset\\dataset\\valid\"\n",
    "\n",
    "output_images_dir = os.path.join(output_dir, \"images\")\n",
    "os.makedirs(output_images_dir, exist_ok=True)\n"
   ]
  },
  {
   "cell_type": "code",
   "execution_count": null,
   "id": "debe47e8-d584-4f5f-805e-3a4cb4656cd3",
   "metadata": {},
   "outputs": [],
   "source": [
    "# Function to copy images from source to destination\n",
    "def copy_images(source_dir, dest_dir):\n",
    "    # Get all files in the source directory\n",
    "    for root, _, files in os.walk(source_dir):\n",
    "        for file in files:\n",
    "            # Check if file is an image\n",
    "            if file.lower().endswith(('.png', '.jpg', '.jpeg', '.bmp', '.gif', '.tiff', '.tif')):\n",
    "                source_file = os.path.join(root, file)\n",
    "                dest_file = os.path.join(dest_dir, file)\n",
    "                shutil.copy2(source_file, dest_file)\n",
    "# convert to coco format\n",
    "\n",
    "\n",
    "#nc will be automatically identified\n",
    "def create_files( folder, nc=1, single_class=False):\n",
    "        \"\"\"\n",
    "        Create coco files\n",
    "        \n",
    "        \"\"\"\n",
    "        files = {}\n",
    "        files[\"info\"] = {\n",
    "            \"year\": 2222,\n",
    "            \"version\": \"1.0\",\n",
    "            \"description\": \"Object detection\",\n",
    "            \"date_created\": \"2222\",\n",
    "        }\n",
    "        files[\"licenses\"] = [\n",
    "            {\n",
    "                \"id\": 1,\n",
    "                \"name\": \"GNU General Public License v3.0\",\n",
    "                \"url\": \"https://github.com/zhiqwang/yolov5-rt-stack/blob/master/LICENSE\",\n",
    "            }\n",
    "        ]\n",
    "        files[\"type\"] = \"instances\"\n",
    "        files[\"categories\"] = []\n",
    "        files[\"annotations\"] = []\n",
    "        files[\"images\"] = []\n",
    "\n",
    "        start = os.path.join(folder, \"labels\")\n",
    "        all_files = os.listdir(start)\n",
    "        if single_class:\n",
    "            nc = 1\n",
    "        max_val = 0\n",
    "        for cnt_out, img in enumerate(os.listdir(start)):\n",
    "            im = cv2.imread(os.path.join(start, img), 0)\n",
    "            max_val = max(max_val, np.max(im))\n",
    "        nc = max_val\n",
    "        print(nc)\n",
    "        for i in range(nc):\n",
    "            files[\"categories\"].append(\n",
    "                {\"id\": i, \"name\": str(i), \"supercategory\": str(i)}\n",
    "            )\n",
    "        all_annos = 0\n",
    "        for cnt_out, img in enumerate(os.listdir(start)):\n",
    "            im = cv2.imread(os.path.join(start, img), 0)\n",
    "            files[\"images\"].append(\n",
    "                {\n",
    "                    \"date_captured\": \"2021\",\n",
    "                    \"file_name\": img,\n",
    "                    \"id\": cnt_out,\n",
    "                    \"height\": im.shape[0],\n",
    "                    \"width\": im.shape[1],\n",
    "                }\n",
    "            )\n",
    "\n",
    "            for i in range(0, nc):\n",
    "                im = cv2.imread(os.path.join(start, img), 0)\n",
    "                tmp = im.copy()\n",
    "                if not single_class:\n",
    "                    tmp[tmp != (i + 1)] = 0\n",
    "                    tmp[tmp == (i + 1)] = 255\n",
    "                else:\n",
    "                    tmp[tmp > 0] = 255\n",
    "\n",
    "                contours, hierachy = cv2.findContours(\n",
    "                    tmp, cv2.RETR_TREE, cv2.CHAIN_APPROX_SIMPLE\n",
    "                )\n",
    "                blank = np.zeros_like(tmp)\n",
    "\n",
    "                for cnt, cont in enumerate(contours):\n",
    "                    segmentation = []\n",
    "                    xmin, ymin, width, height = cv2.boundingRect(cont)  # bounding box\n",
    "                    if width * height < 3:\n",
    "                        continue\n",
    "                    image_height = im.shape[0]\n",
    "                    image_width = im.shape[1]\n",
    "                    cont = (\n",
    "                        cont.flatten().tolist()\n",
    "                    )  # contour as 1d array has shape (x1,y1,x2,y2,...,x_n, y_n)\n",
    "                    # https://github.com/facebookresearch/Detectron/issues/100#issuecomment-362882830\n",
    "                    if len(cont) > 4:  # only of at least 2 points are there\n",
    "                        segmentation.append(cont)\n",
    "                    else:\n",
    "                        continue\n",
    "                    if (\n",
    "                        len(segmentation) == 0\n",
    "                    ):  # check again if segmentations are in list\n",
    "                        continue\n",
    "\n",
    "                    files[\"annotations\"].append(\n",
    "                        {\n",
    "                            \"segmentation\": segmentation,\n",
    "                            \"area\": width * height,\n",
    "                            \"image_id\": cnt_out,\n",
    "                            \"iscrowd\": 0,\n",
    "                            \"bbox\": [xmin, ymin, width, height],\n",
    "                            \"category_id\": i,\n",
    "                            \"id\": all_annos,\n",
    "                        }\n",
    "                    )\n",
    "                    all_annos += 1\n",
    "\n",
    "        return files\n",
    "    "
   ]
  },
  {
   "cell_type": "code",
   "execution_count": null,
   "id": "ce4d77c7-e8ec-4c7b-a700-75142dd67877",
   "metadata": {},
   "outputs": [],
   "source": []
  },
  {
   "cell_type": "code",
   "execution_count": null,
   "id": "a3bebfae-36e8-4328-bc47-d9492bb309e3",
   "metadata": {},
   "outputs": [],
   "source": [
    "# Copy images from both train and valid directories to the output images directory\n",
    "copy_images(os.path.join(segmentation_dataset_train_path, \"images\"), output_images_dir)\n",
    "copy_images(os.path.join(segmentation_dataset_valid_path, \"images\"), output_images_dir)\n",
    "train_json = create_files(segmentation_dataset_train_path)\n",
    "valid_json = create_files(segmentation_dataset_valid_path)"
   ]
  },
  {
   "cell_type": "code",
   "execution_count": null,
   "id": "b50bc13b-89de-4457-9ff0-a9a6297946d4",
   "metadata": {},
   "outputs": [],
   "source": [
    "with open(os.path.join(output_dir,\"train.json\"), 'w') as json_file:\n",
    "    json.dump(train_json, json_file)\n",
    "\n",
    "with open(os.path.join(output_dir, \"valid.json\"), 'w') as json_file:\n",
    "    json.dump(valid_json, json_file)"
   ]
  },
  {
   "cell_type": "markdown",
   "id": "964ca5eb-e097-4bb4-aa6b-13d3d376c03b",
   "metadata": {},
   "source": [
    "# Now actually train the models"
   ]
  },
  {
   "cell_type": "code",
   "execution_count": null,
   "id": "76cca1cd-45e9-49ba-bae4-fac88bd40eb5",
   "metadata": {},
   "outputs": [],
   "source": [
    "import os\n",
    "\n",
    "os.environ[\"CUDA_DEVICE_ORDER\"] = \"PCI_BUS_ID\"  # see issue #152\n",
    "os.environ[\"CUDA_VISIBLE_DEVICES\"] = \"1\" # select gpu\n",
    "from mmwrapper.src.api import get_runner"
   ]
  },
  {
   "cell_type": "code",
   "execution_count": null,
   "id": "388e5328-d134-49e7-99e4-2efefbe691ce",
   "metadata": {},
   "outputs": [],
   "source": [
    "#runner = get_runner(r\"C:\\Users\\philmarq\\source\\repos\\MMWrapperRepo\\mmwrapper\\src\\configs\\object_detection\\object_detection.yaml\")\n",
    "#runner = get_runner(r\"C:\\Users\\philmarq\\source\\repos\\MMWrapperRepo\\mmwrapper\\src\\configs\\segmentation\\segmentation.yaml\")\n",
    "runner = get_runner(r\"C:\\Users\\philmarq\\source\\repos\\MMWrapperRepo\\mmwrapper\\src\\configs\\instance_segmentation\\instance_seg.yaml\")\n",
    "#runner = get_runner(r\"C:\\Users\\philmarq\\source\\repos\\MMWrapperRepo\\mmwrapper\\src\\configs\\classification\\classification.yaml\")"
   ]
  },
  {
   "cell_type": "code",
   "execution_count": null,
   "id": "38938969-4b40-44d5-be7e-e09508001bd7",
   "metadata": {},
   "outputs": [],
   "source": [
    "runner.train()"
   ]
  },
  {
   "cell_type": "code",
   "execution_count": null,
   "id": "56564c5e-3c67-4919-a6bc-93444faa074d",
   "metadata": {},
   "outputs": [],
   "source": [
    "pip install future tensorboard"
   ]
  }
 ],
 "metadata": {
  "kernelspec": {
   "display_name": "Python 3 (ipykernel)",
   "language": "python",
   "name": "python3"
  },
  "language_info": {
   "codemirror_mode": {
    "name": "ipython",
    "version": 3
   },
   "file_extension": ".py",
   "mimetype": "text/x-python",
   "name": "python",
   "nbconvert_exporter": "python",
   "pygments_lexer": "ipython3",
   "version": "3.9.19"
  }
 },
 "nbformat": 4,
 "nbformat_minor": 5
}
